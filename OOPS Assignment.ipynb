{
 "cells": [
  {
   "cell_type": "markdown",
   "id": "1995ecaa-8bd4-46a1-8723-facbd1f20915",
   "metadata": {},
   "source": [
    "# 1.What are the five key concepts of Object-Oriented Programming (OOP)?"
   ]
  },
  {
   "cell_type": "markdown",
   "id": "06e8e65d-f39c-410f-bc69-caeddb8b70d7",
   "metadata": {},
   "source": [
    "The five key concepts of Object-Oriented Programming (OOP) are:\n",
    "\n",
    "Class:\n",
    "A blueprint or template for creating objects (instances). It defines the attributes (data) and behaviors (methods) that the objects will have. For example, a Car class might define properties like color and model, and behaviors like drive() and stop().\n",
    "\n",
    "Object:\n",
    "An instance of a class. Objects are the concrete entities created using a class, containing real values for the attributes defined by the class. For example, myCar = Car() creates an object myCar from the Car class.\n",
    "\n",
    "Encapsulation:\n",
    "The concept of bundling data (attributes) and methods that operate on that data within a single unit (class), and restricting direct access to some of the object's components. This is often achieved through access modifiers like private, protected, or public. Encapsulation helps maintain data integrity and security.\n",
    "\n",
    "Inheritance:\n",
    "A mechanism by which one class (child or subclass) inherits properties and behaviors (attributes and methods) from another class (parent or superclass). This promotes code reuse and establishes a hierarchy between classes. For example, a SportsCar class might inherit from the Car class, gaining all its features but also adding its own specific features.\n",
    "\n",
    "Polymorphism:\n",
    "The ability of different classes to be treated as instances of the same class through a common interface, often enabled by method overriding or overloading. Polymorphism allows objects to be processed differently depending on their data type or class. For example, a method drive() may behave differently for a Car object than it does for a Bicycle object, even though both objects have a drive() method.\n",
    "\n",
    "These concepts work together to structure code in a modular, reusable, and maintainable way."
   ]
  },
  {
   "cell_type": "markdown",
   "id": "07d2ee17-7068-49c4-b38a-22d4e638e966",
   "metadata": {},
   "source": [
    "# 2.Write a Python class for a `Car` with attributes for `make`, `model`, and `year`. Include a method to display the car's information."
   ]
  },
  {
   "cell_type": "code",
   "execution_count": 2,
   "id": "da22a6b8-288f-451b-9399-ffb36471a95c",
   "metadata": {},
   "outputs": [
    {
     "name": "stdout",
     "output_type": "stream",
     "text": [
      "Car information:toyota camry 2020\n"
     ]
    }
   ],
   "source": [
    "class Car:\n",
    "    def __init__(self,make,model,year):\n",
    "        self.make=make\n",
    "        self.model=model\n",
    "        self.year=year\n",
    "    def display(self):\n",
    "        print(f\"Car information:{self.make} {self.model} {self.year}\")\n",
    "c1=Car(\"toyota\",\"camry\",2020)\n",
    "c1.display()"
   ]
  },
  {
   "cell_type": "markdown",
   "id": "865559cd-137d-404e-bb2d-6c91df167cde",
   "metadata": {},
   "source": [
    "# 3. Explain the difference between instance methods and class methods. Provide an example of each."
   ]
  },
  {
   "cell_type": "markdown",
   "id": "f9e38170-8b4f-4bc1-8262-34aa2c10eb61",
   "metadata": {},
   "source": [
    "1.Instance Methods:\n",
    "\n",
    "Definition: Instance methods are the most common type of methods in Python classes. They operate on the data (attributes) specific to an instance of the class.\n",
    "Access: They have access to both instance-specific data (via self) and the class itself.\n",
    "Use: Typically used when you want to perform an operation or modify data specific to a particular object (instance) of a class.\n",
    "\n",
    "Operate on instance-specific data.\n",
    "Defined with self as the first parameter.\n",
    "Can access both instance and class-level data."
   ]
  },
  {
   "cell_type": "code",
   "execution_count": 3,
   "id": "ad22710b-4913-4969-a527-0dc259e8e0d3",
   "metadata": {},
   "outputs": [
    {
     "name": "stdout",
     "output_type": "stream",
     "text": [
      "Car information:toyota camry 2020\n"
     ]
    }
   ],
   "source": [
    "class Car:\n",
    "    def __init__(self,make,model,year):\n",
    "        self.make=make\n",
    "        self.model=model\n",
    "        self.year=year\n",
    "    def display(self):\n",
    "        print(f\"Car information:{self.make} {self.model} {self.year}\")\n",
    "c1=Car(\"toyota\",\"camry\",2020)\n",
    "c1.display()"
   ]
  },
  {
   "cell_type": "markdown",
   "id": "afd52ead-7700-4f89-a979-6a5fe53be0a6",
   "metadata": {},
   "source": [
    "2.Class Methods:\n",
    "\n",
    "Definition: Class methods are methods that are bound to the class itself, not to a particular instance. They are defined using the @classmethod decorator and take cls as the first parameter instead of self.\n",
    "Access: Class methods have access to class-level data (attributes shared across all instances of the class) but do not have direct access to instance-specific data.\n",
    "Use: These are typically used when you need to work with or modify class-level attributes, or if you want to provide alternate ways to instantiate objects.\n",
    "\n",
    "Operate on class-level data.\n",
    "Defined with @classmethod and cls as the first parameter.\n",
    "Cannot access instance-specific data directly."
   ]
  },
  {
   "cell_type": "code",
   "execution_count": 4,
   "id": "e5cf1fec-ccaf-412c-a468-fbb583b3740b",
   "metadata": {},
   "outputs": [
    {
     "name": "stdout",
     "output_type": "stream",
     "text": [
      "All cars have 4 wheels.\n",
      "All cars have 4 wheels.\n"
     ]
    }
   ],
   "source": [
    "class Car:\n",
    "    wheels = 4\n",
    "    def __init__(self, make, model, year):\n",
    "        self.make = make\n",
    "        self.model = model\n",
    "        self.year = year\n",
    "    def display_info(self):\n",
    "        print(f\"Car Information: {self.year} {self.make} {self.model}\")\n",
    "    @classmethod\n",
    "    def display_wheels(cls):\n",
    "        print(f\"All cars have {cls.wheels} wheels.\")\n",
    "Car.display_wheels()\n",
    "my_car = Car(\"Toyota\", \"Corolla\", 2021)\n",
    "my_car.display_wheels()"
   ]
  },
  {
   "cell_type": "markdown",
   "id": "c9c760b3-d9e8-41b3-be2d-42ce29dcd040",
   "metadata": {},
   "source": [
    "# 4.How does Python implement method overloading? Give an example."
   ]
  },
  {
   "cell_type": "markdown",
   "id": "08525dc3-3ee9-4871-a94d-8aca07a0b448",
   "metadata": {},
   "source": [
    "Python does not support traditional method overloading (having multiple methods with the same name but different parameters) like some other languages such as Java or C++. In Python, you cannot define multiple methods with the same name in the same class. Instead, Python provides alternative mechanisms to achieve similar behavior."
   ]
  },
  {
   "cell_type": "code",
   "execution_count": 5,
   "id": "790cfcea-3731-4b65-a8a0-23654807993f",
   "metadata": {},
   "outputs": [
    {
     "name": "stdout",
     "output_type": "stream",
     "text": [
      "welcome to the class  \n",
      "welcome to the class Anu \n",
      "welcome to the class Anu Data Science\n"
     ]
    }
   ],
   "source": [
    "class Student:\n",
    "    def student(self):\n",
    "        print('welcome to the class.')\n",
    "    def student(self,name=\"\"):\n",
    "        print('welcome to the class',name)\n",
    "    def student(self,name=\"\",course=\"\"):\n",
    "        print('welcome to the class',name,course)\n",
    "stud=Student()\n",
    "stud.student()\n",
    "stud.student(\"Anu\")\n",
    "stud.student(\"Anu\",\"Data Science\")"
   ]
  },
  {
   "cell_type": "markdown",
   "id": "1e7b0254-69c8-4d78-953a-8a5258d789a1",
   "metadata": {},
   "source": [
    "# 5.What are the three types of access modifiers in Python? How are they denoted?"
   ]
  },
  {
   "cell_type": "markdown",
   "id": "46dde9d1-fe3b-4d30-81e3-57a4569242aa",
   "metadata": {},
   "source": [
    "In Python, access to class attributes and methods is controlled by three types of access modifiers: public, protected, and private. Unlike some other programming languages, Python doesn't enforce strict access control, but it uses naming conventions to indicate the intended visibility of attributes and methods."
   ]
  },
  {
   "cell_type": "markdown",
   "id": "d491590a-38e0-4f9e-b154-2b691fd5a479",
   "metadata": {},
   "source": [
    "1. Public:\n",
    "Denotation: No leading underscores (_) in the name.\n",
    "Access: Public members are accessible from both inside and outside the class.\n",
    "Use: Public members are meant to be accessible to everyone."
   ]
  },
  {
   "cell_type": "code",
   "execution_count": 6,
   "id": "7265ba06-9755-4dae-9125-f5a28f31a501",
   "metadata": {},
   "outputs": [
    {
     "name": "stdout",
     "output_type": "stream",
     "text": [
      "I am public\n"
     ]
    }
   ],
   "source": [
    "class MyClass:\n",
    "    def __init__(self):\n",
    "        self.public_var = \"I am public\"\n",
    "obj = MyClass()\n",
    "print(obj.public_var)"
   ]
  },
  {
   "cell_type": "markdown",
   "id": "6273aff3-2255-4c26-8e11-b302d620fc89",
   "metadata": {},
   "source": [
    "2. Protected:\n",
    "Denotation: A single leading underscore (_) before the name.\n",
    "Access: Protected members can be accessed within the class and by subclasses, but it is a convention that they should not be accessed directly from outside the class. However, this is not strictly enforced by Python.\n",
    "Use: Used to indicate that the member is intended for internal use within the class and subclasses."
   ]
  },
  {
   "cell_type": "code",
   "execution_count": 7,
   "id": "5dd92754-a6e2-43fc-972a-04dc814f8145",
   "metadata": {},
   "outputs": [
    {
     "name": "stdout",
     "output_type": "stream",
     "text": [
      "I am protected\n"
     ]
    }
   ],
   "source": [
    "class MyClass:\n",
    "    def __init__(self):\n",
    "        self._protected_var = \"I am protected\"\n",
    "obj = MyClass()\n",
    "print(obj._protected_var)"
   ]
  },
  {
   "cell_type": "markdown",
   "id": "c2c13162-e485-4554-bbe0-2786854056d9",
   "metadata": {},
   "source": [
    "3. Private:\n",
    "Denotation: A double leading underscore (__) before the name.\n",
    "Access: Private members are intended to be accessible only within the class where they are defined. Python implements this through name mangling, where the member name is internally changed to include the class name, making it difficult (but not impossible) to access from outside the class.\n",
    "Use: Used to prevent accidental access and modification, especially in complex class designs."
   ]
  },
  {
   "cell_type": "code",
   "execution_count": 8,
   "id": "e9f79549-2c1a-49a5-819d-abcc1f212284",
   "metadata": {},
   "outputs": [
    {
     "name": "stdout",
     "output_type": "stream",
     "text": [
      "I am private\n"
     ]
    }
   ],
   "source": [
    "class MyClass:\n",
    "    def __init__(self):\n",
    "        self.__private_var = \"I am private\"\n",
    "obj = MyClass()\n",
    "print(obj._MyClass__private_var)"
   ]
  },
  {
   "cell_type": "markdown",
   "id": "ae8b5d90-f4b9-4229-90a6-7049dddedd7e",
   "metadata": {},
   "source": [
    "# 6.Describe the five types of inheritance in Python. Provide a simple example of multiple inheritance."
   ]
  },
  {
   "cell_type": "markdown",
   "id": "205642cb-9eb2-49a6-a249-dc03570fccb3",
   "metadata": {},
   "source": [
    "In Python, inheritance allows a class (child or subclass) to inherit attributes and methods from another class (parent or superclass). There are five types of inheritance in Python, which define different ways classes can inherit from each other."
   ]
  },
  {
   "cell_type": "markdown",
   "id": "0bd1542f-bcc7-4345-afd6-1b466b36bb11",
   "metadata": {},
   "source": [
    "1. Single Inheritance:\n",
    "A subclass inherits from one superclass."
   ]
  },
  {
   "cell_type": "code",
   "execution_count": 9,
   "id": "c7c06e6a-cccb-4713-949a-9470a3dd98f2",
   "metadata": {},
   "outputs": [
    {
     "name": "stdout",
     "output_type": "stream",
     "text": [
      "Some sound\n"
     ]
    }
   ],
   "source": [
    "class Animal:\n",
    "    def sound(self):\n",
    "        return \"Some sound\"\n",
    "class Dog(Animal):\n",
    "    pass\n",
    "dog = Dog()\n",
    "print(dog.sound())"
   ]
  },
  {
   "cell_type": "markdown",
   "id": "cc1132be-a4a3-4805-8d51-8e97292245ae",
   "metadata": {},
   "source": [
    "2. Multiple Inheritance:\n",
    "A subclass inherits from more than one superclass."
   ]
  },
  {
   "cell_type": "code",
   "execution_count": 10,
   "id": "4f1e4da5-5a51-463c-95c1-7d4c14004f4b",
   "metadata": {},
   "outputs": [
    {
     "name": "stdout",
     "output_type": "stream",
     "text": [
      "Some sound\n",
      "Vehicle is running\n"
     ]
    }
   ],
   "source": [
    "class Animal:\n",
    "    def sound(self):\n",
    "        return \"Some sound\"\n",
    "class Vehicle:\n",
    "    def run(self):\n",
    "        return \"Vehicle is running\"\n",
    "class Amphibious(Animal, Vehicle):\n",
    "    pass\n",
    "obj1 = Amphibious()\n",
    "print(obj1.sound())  \n",
    "print(obj1.run())    "
   ]
  },
  {
   "cell_type": "markdown",
   "id": "cbdb58fa-6229-438c-b1a0-31eeabfddf49",
   "metadata": {},
   "source": [
    "3. Multilevel Inheritance:\n",
    "A chain of inheritance where a class inherits from a class that is already a subclass."
   ]
  },
  {
   "cell_type": "code",
   "execution_count": 11,
   "id": "dd16d575-fe5f-4f20-9ce0-da685d6d9a56",
   "metadata": {},
   "outputs": [
    {
     "name": "stdout",
     "output_type": "stream",
     "text": [
      "Some sound\n"
     ]
    }
   ],
   "source": [
    "class Animal:\n",
    "    def sound(self):\n",
    "        return \"Some sound\"\n",
    "class Dog(Animal):\n",
    "    pass\n",
    "class Labrador(Dog):\n",
    "    pass\n",
    "labrador = Labrador()\n",
    "print(labrador.sound())  "
   ]
  },
  {
   "cell_type": "markdown",
   "id": "2ea2328c-4ac5-4dfb-9dcd-e2170f102cd8",
   "metadata": {},
   "source": [
    "4. Hierarchical Inheritance:\n",
    "Multiple subclasses inherit from a single superclass."
   ]
  },
  {
   "cell_type": "code",
   "execution_count": 12,
   "id": "209f2561-dc43-4a4b-ac26-af00ebd4b5a8",
   "metadata": {},
   "outputs": [
    {
     "name": "stdout",
     "output_type": "stream",
     "text": [
      "Some sound\n",
      "Some sound\n"
     ]
    }
   ],
   "source": [
    "class Animal:\n",
    "    def sound(self):\n",
    "        return \"Some sound\"\n",
    "class Dog(Animal):\n",
    "    pass\n",
    "class Cat(Animal):\n",
    "    pass\n",
    "dog = Dog()\n",
    "cat = Cat()\n",
    "print(dog.sound())\n",
    "print(cat.sound())"
   ]
  },
  {
   "cell_type": "markdown",
   "id": "cfd65bab-8dd1-416b-945f-e7d97fdfb798",
   "metadata": {},
   "source": [
    "5. Hybrid Inheritance:\n",
    "A combination of more than one type of inheritance, typically combining hierarchical and multiple inheritance."
   ]
  },
  {
   "cell_type": "code",
   "execution_count": 13,
   "id": "6cf68b91-73d6-454e-8434-32034232808c",
   "metadata": {},
   "outputs": [
    {
     "name": "stdout",
     "output_type": "stream",
     "text": [
      "Some sound\n"
     ]
    }
   ],
   "source": [
    "class Animal:\n",
    "    def sound(self):\n",
    "        return \"Some sound\"\n",
    "class Mammal(Animal):\n",
    "    pass\n",
    "class Bird(Animal):\n",
    "    pass\n",
    "class Bat(Mammal, Bird):\n",
    "    pass\n",
    "bat = Bat()\n",
    "print(bat.sound())  "
   ]
  },
  {
   "cell_type": "code",
   "execution_count": 14,
   "id": "adc83033-322b-4180-9c0f-0c62918ada13",
   "metadata": {},
   "outputs": [
    {
     "name": "stdout",
     "output_type": "stream",
     "text": [
      "Some sound\n",
      "Vehicle is running\n"
     ]
    }
   ],
   "source": [
    "#Example of Multiple Inheritance\n",
    "class Animal:\n",
    "    def sound(self):\n",
    "        return \"Some sound\"\n",
    "class Vehicle:\n",
    "    def run(self):\n",
    "        return \"Vehicle is running\"\n",
    "class Amphibious(Animal, Vehicle):\n",
    "    pass\n",
    "obj1 = Amphibious()\n",
    "print(obj1.sound())\n",
    "print(obj1.run())  "
   ]
  },
  {
   "cell_type": "markdown",
   "id": "5c4cc3c0-37f3-451a-8002-5165237c6901",
   "metadata": {},
   "source": [
    "# 7.What is the Method Resolution Order (MRO) in Python? How can you retrieve it programmatically?"
   ]
  },
  {
   "cell_type": "markdown",
   "id": "eb77d083-5aa8-4564-b4be-27d8fa63a95b",
   "metadata": {},
   "source": [
    "The Method Resolution Order (MRO) in Python is the order in which Python looks for a method or attribute in a hierarchy of classes during inheritance. It determines the sequence in which base classes are checked when a method is called on an object.\n",
    "\n",
    "MRO is particularly important in cases of multiple inheritance, where a class inherits from more than one parent class. Python follows the C3 Linearization (C3 superclass linearization) algorithm to determine the MRO, ensuring a consistent and unambiguous method resolution order.\n",
    "\n",
    "How MRO Works:\n",
    "When a method is called on an instance, Python searches for that method by traversing the class hierarchy.\n",
    "It starts from the instance’s class, goes through the parent classes based on the MRO, and stops when it finds the method.\n",
    "If the method isn’t found, Python raises an AttributeError."
   ]
  },
  {
   "cell_type": "code",
   "execution_count": 15,
   "id": "09176a1e-618c-46b8-82a0-44d9ac828be7",
   "metadata": {},
   "outputs": [
    {
     "name": "stdout",
     "output_type": "stream",
     "text": [
      "Method in B\n"
     ]
    }
   ],
   "source": [
    "class A:\n",
    "    def method(self):\n",
    "        print(\"Method in A\")\n",
    "class B(A):\n",
    "    def method(self):\n",
    "        print(\"Method in B\")\n",
    "class C(A):\n",
    "    def method(self):\n",
    "        print(\"Method in C\")\n",
    "class D(B, C):\n",
    "    pass\n",
    "d = D()\n",
    "d.method()"
   ]
  },
  {
   "cell_type": "markdown",
   "id": "bb01ed07-41c8-42f8-84e6-574c08edeac6",
   "metadata": {},
   "source": [
    "Retrieving MRO Programmatically:\n",
    "You can retrieve the MRO of a class in Python using either of the following methods:"
   ]
  },
  {
   "cell_type": "markdown",
   "id": "ce8e2d2b-a6c8-4710-8c89-d0c6a9968005",
   "metadata": {},
   "source": [
    "1. Using the __mro__ attribute: The __mro__ attribute stores a tuple containing the MRO of the class."
   ]
  },
  {
   "cell_type": "code",
   "execution_count": 16,
   "id": "07a101e2-0e7c-47f8-acec-e4f782508b52",
   "metadata": {},
   "outputs": [
    {
     "name": "stdout",
     "output_type": "stream",
     "text": [
      "(<class '__main__.D'>, <class '__main__.B'>, <class '__main__.C'>, <class '__main__.A'>, <class 'object'>)\n"
     ]
    }
   ],
   "source": [
    "print(D.__mro__)"
   ]
  },
  {
   "cell_type": "markdown",
   "id": "b8c227cd-968e-4996-ba5d-6c2edfdcc0d5",
   "metadata": {},
   "source": [
    "2. Using the mro() method: The mro() method returns a list of classes in the order in which they will be checked during method resolution."
   ]
  },
  {
   "cell_type": "code",
   "execution_count": 17,
   "id": "994f4e14-f921-486e-a921-261bc552d1f8",
   "metadata": {},
   "outputs": [
    {
     "name": "stdout",
     "output_type": "stream",
     "text": [
      "[<class '__main__.D'>, <class '__main__.B'>, <class '__main__.C'>, <class '__main__.A'>, <class 'object'>]\n"
     ]
    }
   ],
   "source": [
    "print(D.mro())"
   ]
  },
  {
   "cell_type": "markdown",
   "id": "542f1d7e-f5f5-4463-933f-2b2896a01721",
   "metadata": {},
   "source": [
    "# 8.Create an abstract base class `Shape` with an abstract method `area()`. Then create two subclasses `Circle` and `Rectangle` that implement the `area()` method."
   ]
  },
  {
   "cell_type": "code",
   "execution_count": 19,
   "id": "8b7364b8-e387-4af3-a330-78a6e6ce2600",
   "metadata": {},
   "outputs": [
    {
     "name": "stdout",
     "output_type": "stream",
     "text": [
      "area of circle is pi*r**2\n",
      "area of rectangle is length*breadth\n"
     ]
    }
   ],
   "source": [
    "import abc\n",
    "class Shape:\n",
    "    @abc.abstractmethod\n",
    "    def area(self):\n",
    "        pass\n",
    "class Circle(Shape):\n",
    "    def area(self):\n",
    "        return \"area of circle is pi*r**2\"\n",
    "class Rectangle(Shape):\n",
    "    def area(self):\n",
    "        return \"area of rectangle is length*breadth\"\n",
    "circ=Circle()\n",
    "print(circ.area())\n",
    "rect=Rectangle()\n",
    "print(rect.area())"
   ]
  },
  {
   "cell_type": "markdown",
   "id": "138228af-a800-47fd-bc7a-71831894fb12",
   "metadata": {},
   "source": [
    "# 9.Demonstrate polymorphism by creating a function that can work with different shape objects to calculate and print their areas."
   ]
  },
  {
   "cell_type": "markdown",
   "id": "12ddbae0-f4e4-4330-a9b7-bda43aeef65b",
   "metadata": {},
   "source": [
    "Polymorphism in Python allows different classes to define methods with the same name, and a single function can work with objects of different types, calling the appropriate method for each object.\n",
    "\n",
    "Here's an example that demonstrates polymorphism with different shape objects (such as Circle, Rectangle, and Triangle) and a function that calculates and prints their areas."
   ]
  },
  {
   "cell_type": "code",
   "execution_count": 20,
   "id": "e4d4201e-d0d7-4022-a85b-2363d96ddd3b",
   "metadata": {},
   "outputs": [
    {
     "name": "stdout",
     "output_type": "stream",
     "text": [
      "The area of the shape is: 78.53981633974483\n",
      "The area of the shape is: 24\n",
      "The area of the shape is: 10.0\n"
     ]
    }
   ],
   "source": [
    "import math\n",
    "class Shape:\n",
    "    def area(self):\n",
    "        pass\n",
    "class Circle(Shape):\n",
    "    def __init__(self, radius):\n",
    "        self.radius = radius\n",
    "    def area(self):\n",
    "        return math.pi * self.radius ** 2\n",
    "class Rectangle(Shape):\n",
    "    def __init__(self, width, height):\n",
    "        self.width = width\n",
    "        self.height = height\n",
    "    def area(self):\n",
    "        return self.width * self.height\n",
    "class Triangle(Shape):\n",
    "    def __init__(self, base, height):\n",
    "        self.base = base\n",
    "        self.height = height\n",
    "    def area(self):\n",
    "        return 0.5 * self.base * self.height\n",
    "def print_area(shape):\n",
    "    print(f\"The area of the shape is: {shape.area()}\")\n",
    "circle = Circle(5)\n",
    "rectangle = Rectangle(4, 6)\n",
    "triangle = Triangle(4, 5)\n",
    "print_area(circle)\n",
    "print_area(rectangle)\n",
    "print_area(triangle)"
   ]
  },
  {
   "cell_type": "markdown",
   "id": "b6a6fc2d-004d-4f98-883f-1124fedb08f7",
   "metadata": {},
   "source": [
    "# 10.Implement encapsulation in a `BankAccount` class with private attributes for `balance` and `account_number`. Include methods for deposit, withdrawal, and balance inquiry."
   ]
  },
  {
   "cell_type": "markdown",
   "id": "281b266b-cd61-4cc8-86ab-573c7c81d9b2",
   "metadata": {},
   "source": [
    "Encapsulation is a fundamental concept in object-oriented programming that restricts direct access to an object's attributes and methods. In Python, encapsulation can be achieved using private attributes (with a double leading underscore) and providing public methods to interact with those attributes."
   ]
  },
  {
   "cell_type": "code",
   "execution_count": 22,
   "id": "799ef3a0-c068-458f-bae6-e4b7d3c7dbce",
   "metadata": {},
   "outputs": [
    {
     "name": "stdout",
     "output_type": "stream",
     "text": [
      "Deposited: $50. New balance: $150.\n",
      "Withdrawn: $30. New balance: $120.\n",
      "Current balance: $120\n",
      "Account number: 123456789\n"
     ]
    }
   ],
   "source": [
    "class BankAccount:\n",
    "    def __init__(self, account_number, initial_balance=0):\n",
    "        self.__account_number = account_number\n",
    "        self.__balance = initial_balance\n",
    "        \n",
    "    def deposit(self, amount):\n",
    "        if amount > 0:\n",
    "            self.__balance += amount\n",
    "            print(f\"Deposited: ${amount}. New balance: ${self.__balance}.\")\n",
    "        else:\n",
    "            print(\"Deposit amount must be positive.\")\n",
    "            \n",
    "    def withdraw(self, amount):\n",
    "        if 0 < amount <= self.__balance:\n",
    "            self.__balance -= amount\n",
    "            print(f\"Withdrawn: ${amount}. New balance: ${self.__balance}.\")\n",
    "        else:\n",
    "            print(\"Invalid withdrawal amount.\")\n",
    "\n",
    "    def get_balance(self):\n",
    "        return self.__balance\n",
    "\n",
    "    def get_account_number(self):\n",
    "        return self.__account_number\n",
    "account = BankAccount(account_number=\"123456789\", initial_balance=100)\n",
    "account.deposit(50)\n",
    "account.withdraw(30)\n",
    "print(f\"Current balance: ${account.get_balance()}\")\n",
    "print(f\"Account number: {account.get_account_number()}\")"
   ]
  },
  {
   "cell_type": "markdown",
   "id": "34599fd4-1395-460f-9e93-a4d6b9c9a3fc",
   "metadata": {},
   "source": [
    "# 11.Write a class that overrides the `__str__` and `__add__` magic methods. What will these methods allow you to do?"
   ]
  },
  {
   "cell_type": "markdown",
   "id": "b1d1d890-4684-4215-820d-7f4eb57da274",
   "metadata": {},
   "source": [
    "In Python, magic methods (also known as dunder methods) allow you to define the behavior of certain operations for your custom classes. The __str__ and __add__ methods are two commonly overridden magic methods.\n",
    "\n",
    "__str__ Method: This method is used to define a human-readable string representation of an object. It is called by the str() function and by the print() function. Overriding this method allows you to specify what should be returned when an instance of your class is converted to a string.\n",
    "\n",
    "__add__ Method: This method defines the behavior of the addition operator (+) for instances of your class. By overriding this method, you can specify how two objects of your class should be added together."
   ]
  },
  {
   "cell_type": "code",
   "execution_count": 23,
   "id": "97b09f61-1041-4917-9952-ebdba93f1ed4",
   "metadata": {},
   "outputs": [
    {
     "name": "stdout",
     "output_type": "stream",
     "text": [
      "Point(2, 3)\n",
      "Point(6, 8)\n"
     ]
    }
   ],
   "source": [
    "class Point:\n",
    "    def __init__(self, x, y):\n",
    "        self.x = x\n",
    "        self.y = y\n",
    "    def __str__(self):\n",
    "        return f\"Point({self.x}, {self.y})\"\n",
    "    def __add__(self, other):\n",
    "        if isinstance(other, Point):\n",
    "            return Point(self.x + other.x, self.y + other.y)\n",
    "        return NotImplemented\n",
    "if __name__ == \"__main__\":\n",
    "    point1 = Point(2, 3)\n",
    "    point2 = Point(4, 5)\n",
    "    print(point1)\n",
    "    point3 = point1 + point2\n",
    "    print(point3)"
   ]
  },
  {
   "cell_type": "markdown",
   "id": "190ff8db-3673-4659-a549-23ae8c3b2d48",
   "metadata": {},
   "source": [
    "# 12.Create a decorator that measures and prints the execution time of a function."
   ]
  },
  {
   "cell_type": "code",
   "execution_count": 25,
   "id": "d0e525b5-caf6-4cac-81f6-3de415b8ee30",
   "metadata": {},
   "outputs": [
    {
     "name": "stdout",
     "output_type": "stream",
     "text": [
      "Execution time of 'example_function': 0.117006 seconds\n",
      "Result: 499999500000\n",
      "Execution time of 'sleep_function': 2.000985 seconds\n"
     ]
    }
   ],
   "source": [
    "import time\n",
    "from functools import wraps\n",
    "def measure_time(func):\n",
    "    @wraps(func)\n",
    "    def wrapper(*args, **kwargs):\n",
    "        start_time = time.time()\n",
    "        result = func(*args, **kwargs)\n",
    "        end_time = time.time()\n",
    "        execution_time = end_time - start_time\n",
    "        print(f\"Execution time of '{func.__name__}': {execution_time:.6f} seconds\")\n",
    "        return result\n",
    "    return wrapper\n",
    "@measure_time\n",
    "def example_function():\n",
    "    total = 0\n",
    "    for i in range(1, 1000000):\n",
    "        total += i\n",
    "    return total\n",
    "\n",
    "@measure_time\n",
    "def sleep_function(seconds):\n",
    "    time.sleep(seconds)\n",
    "\n",
    "result = example_function()\n",
    "print(f\"Result: {result}\")\n",
    "\n",
    "sleep_function(2)"
   ]
  },
  {
   "cell_type": "markdown",
   "id": "aded3639-690e-4f54-80b7-da7dd77e0c68",
   "metadata": {},
   "source": [
    "# 13.Explain the concept of the Diamond Problem in multiple inheritance. How does Python resolve it?"
   ]
  },
  {
   "cell_type": "markdown",
   "id": "1b45f6d1-a077-4e7c-8fe0-dd2e5cfcf3c6",
   "metadata": {},
   "source": [
    "The Diamond Problem is a common issue in object-oriented programming, particularly when a class inherits from multiple classes that ultimately inherit from a common base class. The \"diamond\" refers to the shape of the inheritance diagram, where one class inherits from two or more classes that share a common ancestor."
   ]
  },
  {
   "cell_type": "code",
   "execution_count": 26,
   "id": "305d832e-4bd9-4413-826c-5c3ec0f5de6c",
   "metadata": {},
   "outputs": [
    {
     "name": "stdout",
     "output_type": "stream",
     "text": [
      "Hello from B\n"
     ]
    }
   ],
   "source": [
    "class A:\n",
    "    def greet(self):\n",
    "        print(\"Hello from A\")\n",
    "class B(A):\n",
    "    def greet(self):\n",
    "        print(\"Hello from B\")\n",
    "class C(A):\n",
    "    def greet(self):\n",
    "        print(\"Hello from C\")\n",
    "class D(B, C):\n",
    "    pass\n",
    "d = D()\n",
    "d.greet()"
   ]
  },
  {
   "cell_type": "markdown",
   "id": "8d2dc747-39c9-44ab-8de8-fdd8a058e673",
   "metadata": {},
   "source": [
    "The Problem:\n",
    "If not properly managed, multiple inheritance can lead to ambiguity because the class D has two paths to reach class A (through B and C). It is unclear which method should be invoked, leading to potential confusion and bugs."
   ]
  },
  {
   "cell_type": "markdown",
   "id": "72515775-b5a6-4425-bb2c-b16e7a620a91",
   "metadata": {},
   "source": [
    "How Python Resolves the Diamond Problem\n",
    "Python resolves the Diamond Problem using Method Resolution Order (MRO) and the C3 Linearization algorithm. The MRO defines the order in which methods are inherited and checked during execution in the case of multiple inheritance.\n",
    "\n",
    "The MRO ensures:\n",
    "Deterministic Lookup: The order is well-defined, so there's no ambiguity.\n",
    "Linearization: The order of base classes is determined in a way that respects the inheritance hierarchy without conflicts."
   ]
  },
  {
   "cell_type": "code",
   "execution_count": 27,
   "id": "157de15d-8268-4cfc-9463-26e69274a982",
   "metadata": {},
   "outputs": [
    {
     "name": "stdout",
     "output_type": "stream",
     "text": [
      "Hello from B\n",
      "Hello from C\n",
      "Hello from A\n"
     ]
    }
   ],
   "source": [
    "class A:\n",
    "    def greet(self):\n",
    "        print(\"Hello from A\")\n",
    "class B(A):\n",
    "    def greet(self):\n",
    "        print(\"Hello from B\")\n",
    "        super().greet()\n",
    "class C(A):\n",
    "    def greet(self):\n",
    "        print(\"Hello from C\")\n",
    "        super().greet()\n",
    "class D(B, C):\n",
    "    pass\n",
    "d = D()\n",
    "d.greet()"
   ]
  },
  {
   "cell_type": "markdown",
   "id": "50fb719b-9304-4872-90f3-3858a8c5b79e",
   "metadata": {},
   "source": [
    "# 14.Write a class method that keeps track of the number of instances created from a class."
   ]
  },
  {
   "cell_type": "code",
   "execution_count": 28,
   "id": "7d9588fd-4ba6-40d7-a1ba-0ff13bfea3e9",
   "metadata": {},
   "outputs": [
    {
     "name": "stdout",
     "output_type": "stream",
     "text": [
      "3\n"
     ]
    }
   ],
   "source": [
    "class InstanceCounter:\n",
    "    instance_count = 0\n",
    "    def __init__(self):\n",
    "        InstanceCounter.instance_count += 1\n",
    "    @classmethod\n",
    "    def get_instance_count(cls):\n",
    "        return cls.instance_count\n",
    "obj1 = InstanceCounter()\n",
    "obj2 = InstanceCounter()\n",
    "obj3 = InstanceCounter()\n",
    "print(InstanceCounter.get_instance_count())"
   ]
  },
  {
   "cell_type": "markdown",
   "id": "928075aa-3683-466c-b74c-146df876bead",
   "metadata": {},
   "source": [
    "# 15.Implement a static method in a class that checks if a given year is a leap year."
   ]
  },
  {
   "cell_type": "code",
   "execution_count": 29,
   "id": "d271cb7e-9f39-4bd4-83c2-d32587f4c31f",
   "metadata": {},
   "outputs": [
    {
     "name": "stdout",
     "output_type": "stream",
     "text": [
      "True\n",
      "False\n"
     ]
    }
   ],
   "source": [
    "class YearUtils:\n",
    "    @staticmethod\n",
    "    def is_leap_year(year):\n",
    "        if (year % 4 == 0 and year % 100 != 0) or (year % 400 == 0):\n",
    "            return True\n",
    "        else:\n",
    "            return False\n",
    "print(YearUtils.is_leap_year(2024))\n",
    "print(YearUtils.is_leap_year(2023))"
   ]
  },
  {
   "cell_type": "code",
   "execution_count": null,
   "id": "e289e3aa-c082-4342-97da-5d1e6058bc2b",
   "metadata": {},
   "outputs": [],
   "source": []
  }
 ],
 "metadata": {
  "kernelspec": {
   "display_name": "Python 3 (ipykernel)",
   "language": "python",
   "name": "python3"
  },
  "language_info": {
   "codemirror_mode": {
    "name": "ipython",
    "version": 3
   },
   "file_extension": ".py",
   "mimetype": "text/x-python",
   "name": "python",
   "nbconvert_exporter": "python",
   "pygments_lexer": "ipython3",
   "version": "3.12.6"
  }
 },
 "nbformat": 4,
 "nbformat_minor": 5
}
